{
 "cells": [
  {
   "cell_type": "markdown",
   "metadata": {},
   "source": [
    "# Curso de Python para Bixos 2021\n",
    "## Python for all"
   ]
  },
  {
   "cell_type": "markdown",
   "metadata": {},
   "source": [
    "## Introdução ao Jupyter Notebook\n",
    "- Blocos de código \n",
    "\n",
    "- Markdown\n",
    "\n",
    "Aulão de Markdown e Latex para Jupyter Notebook:\n",
    "\n",
    "- https://www.youtube.com/watch?v=k0PyBJ1XvQ0&t=1070s"
   ]
  },
  {
   "cell_type": "markdown",
   "metadata": {},
   "source": [
    "## Sintaxe do Python"
   ]
  },
  {
   "cell_type": "markdown",
   "metadata": {},
   "source": [
    "### Tipos de variáveis\n",
    "\n",
    "    int, float, string, boolean, list"
   ]
  },
  {
   "cell_type": "markdown",
   "metadata": {},
   "source": [
    "### Funções \n",
    "    print()\n",
    "\n",
    "    input()\n",
    "\n",
    "    int(),float()\n",
    "\n",
    "    type()"
   ]
  },
  {
   "cell_type": "markdown",
   "metadata": {},
   "source": [
    "### Operações matemáticas"
   ]
  },
  {
   "cell_type": "markdown",
   "metadata": {},
   "source": [
    "### Valores Booleanos"
   ]
  },
  {
   "cell_type": "markdown",
   "metadata": {},
   "source": [
    "### Condicionais e loops\n",
    "    if():\n",
    "\n",
    "    else():\n",
    "\n",
    "    for _ in _:\n"
   ]
  },
  {
   "attachments": {},
   "cell_type": "markdown",
   "metadata": {},
   "source": [
    "## Exercício: Número de Reynolds\n",
    "\n",
    "O número de Reynolds é um adimensional que descreve a sitauação do escoamento:laminar, turbulento ou em transição.\n",
    "\n",
    "<div>\n",
    "<img src=\"attachment:image2.png\" width=\"400\"/>\n",
    "</div>\n",
    "\n",
    "\n",
    "Para determinar em qual estado está o escoamento, basta calcular o Re, dado pela equação a seguir\n",
    "\n",
    "$ Re = \\frac{\\rho D V}{\\mu} $\n",
    "\n",
    "Onde\n",
    "\n",
    "- $\\rho$: Massa específica do fluido ($998 kg/m^3$ para água a 20°C)\n",
    "\n",
    "- V: Velocidade média do fluido no futo [$m/s^2$]\n",
    "\n",
    "- D: Diâmetro do tubo [$m$]\n",
    "\n",
    "- $\\mu$: Viscosidade do fluido ($10^{-3} Ns/m^2$ para água a 20°C)\n",
    "\n",
    "Com o Re calculado, a situação do escoamento é dada pela tabela a seguir.\n",
    "\n",
    "| Re | Situação | \n",
    "| -- | -- |\n",
    "| <2300 | Laminar |\n",
    "| 2300< Re <4000 | Transição|\n",
    "| > 4000 | Turbulento |\n",
    "\n",
    "Faça um programa que receba como input os parâmetros de Diâmetro do tubo e Velocidade de escoamento e devolva a situação do escoamento."
   ]
  },
  {
   "cell_type": "markdown",
   "metadata": {},
   "source": [
    "## Numpy"
   ]
  },
  {
   "cell_type": "markdown",
   "metadata": {},
   "source": [
    "### Funções matemáticas\n",
    "\n",
    "    cos(),sin(),exp(),sqrt()\n",
    "\n",
    "    pi"
   ]
  },
  {
   "cell_type": "markdown",
   "metadata": {},
   "source": [
    "## Arrays\n",
    "\n",
    "    ones(), zeros()\n",
    "\n",
    "    arange(), linspace()\n",
    "\n",
    "    vstack(), hstack()"
   ]
  },
  {
   "cell_type": "markdown",
   "metadata": {},
   "source": [
    "### Arrays\n",
    "    max(),min()\n",
    "\n",
    "    argmax(), argmin()\n",
    "\n",
    "    sum(), mean(), std()"
   ]
  },
  {
   "cell_type": "markdown",
   "metadata": {},
   "source": [
    "### Arrays\n",
    "- [i] - Retorna o valor no índice i\n",
    "\n",
    "- [:i] - Exibe um array que vai do índice 0 até o anterior ao i\n",
    "\n",
    "- [i:] - Exibe um array que vai do índice posterior ao i até o último índice\n",
    "\n",
    "- [::i] - Exibe todos os elementos variando de i em i\n",
    "\n",
    "- [::-i] - Exibe a sequencia ao contrário, variando de i em i \n",
    "\n",
    "- [a,b,c] - a: Início; b: Fim; c: Step\n",
    "\n",
    "- [::-1] - Inverte o array\n",
    "\n",
    "- [1:] - Tira a primeira linha"
   ]
  },
  {
   "cell_type": "markdown",
   "metadata": {},
   "source": [
    "## Matplotlib"
   ]
  },
  {
   "cell_type": "markdown",
   "metadata": {},
   "source": [
    "### Pyplot e elementos gráficos\n",
    "    %matplotlib notebook\n",
    "\n",
    "    matplotlib.rcParams.update({'font.size': 11, 'font.family': 'STIXGeneral', 'mathtext.fontset': 'stix'})"
   ]
  },
  {
   "cell_type": "markdown",
   "metadata": {},
   "source": [
    "## Subplots\n",
    "\n",
    "    fig, (ax1, ax2) = plt.subplots(2,2)\n",
    "    fig.suptitle('Título')\n",
    "    ax1[1].plot(x_array,y_array)\n",
    "    \n",
    "    fig.tight_layout()"
   ]
  },
  {
   "cell_type": "markdown",
   "metadata": {},
   "source": [
    "## Exercícios\n"
   ]
  },
  {
   "cell_type": "markdown",
   "metadata": {},
   "source": [
    "### Trem de pouso \n",
    "\n",
    "Vamos fazer uma simulação de um *drop test*, no qual o trem de pouso, carregado com o MTOW do avião é solto de uma altura h. \n",
    "\n",
    "Qual vai ser a deflexão da estrutura para cada altura? E para cada MTOW?\n",
    "\n",
    "Equações\n",
    "\n",
    "$E_{pg} = mgh $\n",
    "\n",
    "$ E_{pe} = \\frac{kx^2}{2} $"
   ]
  },
  {
   "cell_type": "markdown",
   "metadata": {},
   "source": [
    "### Histórico de Equipe\n",
    "\n",
    "Vamos analisar graficamente o histórico de PV, CP, MTOW e EE das aeronaves da Uirá.\n",
    "\n",
    "Para isso, vamos importar os dados do Excel e plotar alguns gráficos interessantes.\n",
    "\n",
    "```\n",
    "val_excel = pd.read_excel(r'DIRETÓRIO', sheet_name = 'NOME DA PÁGINA' , \n",
    "usecols = \"LETRA DA COLUNA\")\n",
    "val_excel = val_excel.dropna() # Tira valores nan (not a number) dos dados\n",
    "val_array = val_excel.to_numpy()  \n",
    "```"
   ]
  },
  {
   "attachments": {},
   "cell_type": "markdown",
   "metadata": {},
   "source": [
    "### Fenômeno de Batimento\n",
    "\n",
    "<div>\n",
    "<img src=\"image2.png\" width=\"300\"/>\n",
    "</div>\n",
    "\n",
    "Em um sistema vibrando, se a frequência da força ($\\omega$) é próxima da frequência natural $\\omega_n$, ocorre o fenômeno de batimento. Vamos definir que a diferença entre essas duas frequências seja \n",
    "\n",
    "$\\omega_n - \\omega = 2\\epsilon$\n",
    "\n",
    "A amplitude da vibração, em função do tempo é dada por\n",
    "\n",
    "$x(t) = \\frac{F_0/m}{2\\epsilon \\omega}sin(\\epsilon t)sin(\\omega t)$\n",
    "\n",
    "Plote a resposta da frequência no tempo com os seguintes parâmetros \n",
    "\n",
    "| Parâmetro | Caso 1 | Caso 2 | Caso 3 | Caso 4 |\n",
    "| -- | -- | -- | -- | -- |\n",
    "|$F_0 [N]$ | 5 | 10 | 10 | 5 |\n",
    "|$m [kg]$ | 10 | 10 | 5 | 5 | \n",
    "|$\\omega_n [rad/s] $ | 10 | 10 | 20 | 20 |\n",
    "|$\\omega [rad/s] $ | 15 | 12 | 5 | 1 |\n"
   ]
  },
  {
   "cell_type": "markdown",
   "metadata": {},
   "source": [
    "### Fenômeno de Batimento - Tarefa\n",
    "\n",
    "Continuando com o exemplo anterior, plote um gráfico o mais parecido possível com o da música *Do I Wanna Know* do Artic Monkeys. Isso inclui tanto o formato da onda quanto os aspéctos gráficos do plot."
   ]
  }
 ],
 "metadata": {
  "kernelspec": {
   "display_name": "Python 3",
   "language": "python",
   "name": "python3"
  },
  "language_info": {
   "codemirror_mode": {
    "name": "ipython",
    "version": 3
   },
   "file_extension": ".py",
   "mimetype": "text/x-python",
   "name": "python",
   "nbconvert_exporter": "python",
   "pygments_lexer": "ipython3",
   "version": "3.7.6"
  }
 },
 "nbformat": 4,
 "nbformat_minor": 4
}
