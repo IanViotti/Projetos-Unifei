{
 "cells": [
  {
   "cell_type": "markdown",
   "metadata": {},
   "source": [
    "# Vibração de sistemas com dois graus de liberdade\n",
    "## Solução Analítica\n",
    "### Autor: Ian Viotti\n",
    "\n",
    "\n"
   ]
  },
  {
   "cell_type": "markdown",
   "metadata": {},
   "source": [
    "Importando as bibliotecas"
   ]
  },
  {
   "cell_type": "code",
   "execution_count": 97,
   "metadata": {},
   "outputs": [],
   "source": [
    "import numpy as np\n",
    "import scipy as sp\n",
    "import sympy as sym\n",
    "import sympy.printing as printing\n",
    "from scipy import linalg\n",
    "sym.init_printing()\n",
    "%matplotlib notebook"
   ]
  },
  {
   "cell_type": "markdown",
   "metadata": {},
   "source": [
    "Definindo as variáveis do problema"
   ]
  },
  {
   "cell_type": "code",
   "execution_count": 250,
   "metadata": {},
   "outputs": [],
   "source": [
    "val_m1 = 9\n",
    "val_m2 = 1\n",
    "val_k1 = 24\n",
    "val_k2 = 3\n",
    "\n",
    "x0_1 = 1\n",
    "dx0_1 = 0\n",
    "\n",
    "x0_2 = 0\n",
    "dx0_2 = 0\n",
    "\n",
    "omg,m1,m2,k1,k2 = sym.symbols('omega,m1,m2,k1,k2')\n",
    "\n",
    "M = sym.Matrix([[m1,0],[0,m2]])\n",
    "K = sym.Matrix([[k1+k2, -k2],[-k2,k2]])\n"
   ]
  },
  {
   "cell_type": "markdown",
   "metadata": {},
   "source": [
    "### Frequências Naturais\n",
    "\n",
    "Calculando a equação característica do sistema para determinar as frequências naturais"
   ]
  },
  {
   "cell_type": "code",
   "execution_count": 294,
   "metadata": {},
   "outputs": [
    {
     "name": "stdout",
     "output_type": "stream",
     "text": [
      "Equações características, Determinantes da matriz de equações características\n"
     ]
    },
    {
     "data": {
      "image/png": "[encoded data removed]",
      "text/latex": [
       "$\\displaystyle \\left( \\left[\\begin{matrix}k_{1} + k_{2} - m_{1} \\omega^{2} & - k_{2}\\\\- k_{2} & k_{2} - m_{2} \\omega^{2}\\end{matrix}\\right], \\  - k_{2}^{2} + \\left(k_{2} - m_{2} \\omega^{2}\\right) \\left(k_{1} + k_{2} - m_{1} \\omega^{2}\\right)\\right)$"
      ],
      "text/plain": [
       "⎛⎡              2            ⎤                                        ⎞\n",
       "⎜⎢k₁ + k₂ - m₁⋅ω      -k₂    ⎥      2   ⎛         2⎞ ⎛              2⎞⎟\n",
       "⎜⎢                           ⎥, - k₂  + ⎝k₂ - m₂⋅ω ⎠⋅⎝k₁ + k₂ - m₁⋅ω ⎠⎟\n",
       "⎜⎢                          2⎥                                        ⎟\n",
       "⎝⎣      -k₂        k₂ - m₂⋅ω ⎦                                        ⎠"
      ]
     },
     "execution_count": 294,
     "metadata": {},
     "output_type": "execute_result"
    }
   ],
   "source": [
    "sys = np.dot(-omg**2,M) + K\n",
    "det_sys = sym.det(sys)\n",
    "nat_freq = sym.solveset(det_sys,omg)\n",
    "\n",
    "print('Equações características, Determinantes da matriz de equações características')\n",
    "sys, det_sys # Matriz com as equações características e determinante da equação característica"
   ]
  },
  {
   "cell_type": "markdown",
   "metadata": {},
   "source": [
    "As frequências naturais do sistema são"
   ]
  },
  {
   "cell_type": "code",
   "execution_count": 231,
   "metadata": {},
   "outputs": [
    {
     "name": "stdout",
     "output_type": "stream",
     "text": [
      "Frequência Naturais [rad/s]: \n"
     ]
    },
    {
     "data": {
      "image/png": "[encoded data removed]",
      "text/latex": [
       "$\\displaystyle \\left\\{-2, 2, - \\sqrt{2}, \\sqrt{2}\\right\\}$"
      ],
      "text/plain": [
       "{-2, 2, -√2, √2}"
      ]
     },
     "execution_count": 231,
     "metadata": {},
     "output_type": "execute_result"
    }
   ],
   "source": [
    "val_nat_freq = nat_freq.subs(m1,val_m1).subs(m2,val_m2).subs(k1,val_k1).subs(k2,val_k2)\n",
    "\n",
    "print('Frequência Naturais [rad/s]: ')\n",
    "val_nat_freq"
   ]
  },
  {
   "cell_type": "markdown",
   "metadata": {},
   "source": [
    "### Modos de Vibração\n",
    "\n",
    "Agora, para calcular os modos de vibração vamos definir os autovetores.\n",
    "\n",
    "Caso o sistema tenha mais de 1 DOF, deve-se criar os vetores manualemente."
   ]
  },
  {
   "cell_type": "code",
   "execution_count": 139,
   "metadata": {},
   "outputs": [],
   "source": [
    "u11,u12,u21,u22 = sym.symbols('u11, u12, u21, u22')\n",
    "\n",
    "omg1, omg2 = sym.symbols('omega_1,omega_2')\n",
    "\n",
    "a_vet1 = sym.Matrix([[u11],[u12]])\n",
    "a_vet2 = sym.Matrix([[u21],[u22]])"
   ]
  },
  {
   "cell_type": "code",
   "execution_count": 166,
   "metadata": {},
   "outputs": [
    {
     "data": {
      "image/png": "[encoded data removed]",
      "text/latex": [
       "$\\displaystyle \\left( \\left[\\begin{matrix}- k_{2} u_{12} + u_{11} \\left(k_{1} + k_{2} - m_{1} \\omega_{1}^{2}\\right)\\\\- k_{2} u_{11} + u_{12} \\left(k_{2} - m_{2} \\omega_{1}^{2}\\right)\\end{matrix}\\right], \\  \\left[\\begin{matrix}- k_{2} u_{22} + u_{21} \\left(k_{1} + k_{2} - m_{1} \\omega_{2}^{2}\\right)\\\\- k_{2} u_{21} + u_{22} \\left(k_{2} - m_{2} \\omega_{2}^{2}\\right)\\end{matrix}\\right]\\right)$"
      ],
      "text/plain": [
       "⎛⎡              ⎛               2⎞⎤  ⎡              ⎛               2⎞⎤⎞\n",
       "⎜⎢-k₂⋅u₁₂ + u₁₁⋅⎝k₁ + k₂ - m₁⋅ω₁ ⎠⎥  ⎢-k₂⋅u₂₂ + u₂₁⋅⎝k₁ + k₂ - m₁⋅ω₂ ⎠⎥⎟\n",
       "⎜⎢                                ⎥, ⎢                                ⎥⎟\n",
       "⎜⎢                ⎛          2⎞   ⎥  ⎢                ⎛          2⎞   ⎥⎟\n",
       "⎝⎣  -k₂⋅u₁₁ + u₁₂⋅⎝k₂ - m₂⋅ω₁ ⎠   ⎦  ⎣  -k₂⋅u₂₁ + u₂₂⋅⎝k₂ - m₂⋅ω₂ ⎠   ⎦⎠"
      ]
     },
     "execution_count": 166,
     "metadata": {},
     "output_type": "execute_result"
    }
   ],
   "source": [
    "sys1 = (np.dot(-omg1**2,M) + K)*a_vet1\n",
    "sys2 = (np.dot(-omg2**2,M) + K)*a_vet2\n",
    "\n",
    "sys1, sys2"
   ]
  },
  {
   "cell_type": "markdown",
   "metadata": {},
   "source": [
    "Determinando os valores de *u* substituindo os valores do problema."
   ]
  },
  {
   "cell_type": "code",
   "execution_count": 233,
   "metadata": {},
   "outputs": [
    {
     "data": {
      "image/png": "[encoded data removed]",
      "text/latex": [
       "$\\displaystyle \\left( \\left[\\begin{matrix}- 9 u_{11} - 3 u_{12}\\\\- 3 u_{11} - u_{12}\\end{matrix}\\right], \\  \\left[\\begin{matrix}9 u_{21} - 3 u_{22}\\\\- 3 u_{21} + u_{22}\\end{matrix}\\right]\\right)$"
      ],
      "text/plain": [
       "⎛⎡-9⋅u₁₁ - 3⋅u₁₂⎤  ⎡9⋅u₂₁ - 3⋅u₂₂⎤⎞\n",
       "⎜⎢              ⎥, ⎢             ⎥⎟\n",
       "⎝⎣ -3⋅u₁₁ - u₁₂ ⎦  ⎣-3⋅u₂₁ + u₂₂ ⎦⎠"
      ]
     },
     "execution_count": 233,
     "metadata": {},
     "output_type": "execute_result"
    }
   ],
   "source": [
    "val_omg1 = (val_nat_freq.args[1])\n",
    "val_omg2 = (val_nat_freq.args[3])\n",
    "\n",
    "\n",
    "val_sys1 = sys1.subs(m1,val_m1).subs(m2,val_m2).subs(k1,val_k1).subs(k2,val_k2).subs(omg1,val_nat_freq.args[0])\n",
    "val_sys2 = sys2.subs(m1,val_m1).subs(m2,val_m2).subs(k1,val_k1).subs(k2,val_k2).subs(omg2,val_nat_freq.args[2])\n",
    "val_sys1, val_sys2"
   ]
  },
  {
   "cell_type": "markdown",
   "metadata": {},
   "source": [
    "Os modos de vibração são definidos pelas variáveis mod1 e mod2."
   ]
  },
  {
   "cell_type": "code",
   "execution_count": 232,
   "metadata": {},
   "outputs": [
    {
     "name": "stdout",
     "output_type": "stream",
     "text": [
      "Modos de vibração: \n"
     ]
    },
    {
     "data": {
      "image/png": "[encoded data removed]",
      "text/latex": [
       "$\\displaystyle \\left( \\left\\{ u_{11} : - \\frac{u_{12}}{3}\\right\\}, \\  \\left\\{ u_{21} : \\frac{u_{22}}{3}\\right\\}\\right)$"
      ],
      "text/plain": [
       "⎛⎧     -u₁₂ ⎫  ⎧     u₂₂⎫⎞\n",
       "⎜⎨u₁₁: ─────⎬, ⎨u₂₁: ───⎬⎟\n",
       "⎝⎩       3  ⎭  ⎩      3 ⎭⎠"
      ]
     },
     "execution_count": 232,
     "metadata": {},
     "output_type": "execute_result"
    }
   ],
   "source": [
    "val_sys1 = sym.Matrix(val_sys1)\n",
    "val_sys2 = sym.Matrix(val_sys2)\n",
    "\n",
    "mod1 = sym.solve(val_sys1,(u11,u12))\n",
    "mod2 = sym.solve(val_sys2,(u21,u22))\n",
    "\n",
    "print('Modos de vibração: ')\n",
    "mod1, mod2"
   ]
  },
  {
   "cell_type": "code",
   "execution_count": 230,
   "metadata": {},
   "outputs": [
    {
     "data": {
      "image/png": "[encoded data removed]",
      "text/latex": [
       "$\\displaystyle \\left[\\begin{matrix}- \\frac{1}{3} & \\frac{1}{3}\\\\1 & 1\\end{matrix}\\right]$"
      ],
      "text/plain": [
       "⎡-1/3  1/3⎤\n",
       "⎢         ⎥\n",
       "⎣ 1     1 ⎦"
      ]
     },
     "execution_count": 230,
     "metadata": {},
     "output_type": "execute_result"
    }
   ],
   "source": [
    "u1 = sym.Matrix([[mod1.get(u11).subs(u12,1)],[1]])\n",
    "u2 = sym.Matrix([[mod2.get(u21).subs(u22,1)],[1]])\n",
    "\n",
    "u = sym.Matrix([[u1, u2]])\n",
    "\n",
    "u"
   ]
  },
  {
   "cell_type": "markdown",
   "metadata": {},
   "source": [
    "## Solução no tempo"
   ]
  },
  {
   "cell_type": "markdown",
   "metadata": {},
   "source": [
    "A solução do problema, com as condições iniciais $x_0$ e $ \\dot{x_0}$ pode ser construída em termos dos valores de $\\pm\\omega_1,\\pm\\omega_2$ e os vetores $ u_1 $ e $ u_2$.\n",
    "\n",
    "Assumindo que a resposta no tempo vai ter uma forma harmônica do tipo\n",
    "\n",
    "$ x(t) = A_1 sin(\\omega_1 t + \\phi_1)u_1 + A_2 sin(\\omega_2 t + \\phi_2)u_2  $\n",
    "\n",
    "Considerando que nenhum $ \\omega_i $ é nulo."
   ]
  },
  {
   "cell_type": "markdown",
   "metadata": {},
   "source": [
    "Para solucionar o problema acima, a equação é escrita na forma\n",
    "\n",
    "\n",
    "$\n",
    "\\begin{bmatrix}\n",
    "x_1(t)\\\\ \n",
    "x_2(t)\n",
    "\\end{bmatrix} = \\begin{bmatrix}\n",
    "u_1 &  u_2\n",
    "\\end{bmatrix}\n",
    "\\begin{bmatrix}\n",
    "A_1 sin(\\omega_1 t + \\phi_1) \\\\\n",
    "A_2 sin(\\omega_2 t + \\phi_2) \\\\ \n",
    "\\end{bmatrix}\n",
    "$"
   ]
  },
  {
   "cell_type": "code",
   "execution_count": 279,
   "metadata": {},
   "outputs": [
    {
     "name": "stdout",
     "output_type": "stream",
     "text": [
      "Posição [m], Velocidade [m/s]\n"
     ]
    },
    {
     "data": {
      "image/png": "[encoded data removed]",
      "text/latex": [
       "$\\displaystyle \\left( \\left[\\begin{matrix}- \\frac{A_{1} \\sin{\\left(\\phi_{1} + 2 t \\right)}}{3} + \\frac{A_{2} \\sin{\\left(\\phi_{2} - \\sqrt{2} t \\right)}}{3}\\\\A_{1} \\sin{\\left(\\phi_{1} + 2 t \\right)} + A_{2} \\sin{\\left(\\phi_{2} - \\sqrt{2} t \\right)}\\end{matrix}\\right], \\  \\left[\\begin{matrix}- \\frac{2 A_{1} \\cos{\\left(\\phi_{1} + 2 t \\right)}}{3} - \\frac{\\sqrt{2} A_{2} \\cos{\\left(\\phi_{2} - \\sqrt{2} t \\right)}}{3}\\\\2 A_{1} \\cos{\\left(\\phi_{1} + 2 t \\right)} - \\sqrt{2} A_{2} \\cos{\\left(\\phi_{2} - \\sqrt{2} t \\right)}\\end{matrix}\\right]\\right)$"
      ],
      "text/plain": [
       "⎛⎡  A₁⋅sin(φ₁ + 2⋅t)   A₂⋅sin(φ₂ - √2⋅t)⎤  ⎡  2⋅A₁⋅cos(φ₁ + 2⋅t)   √2⋅A₂⋅cos(φ\n",
       "⎜⎢- ──────────────── + ─────────────────⎥  ⎢- ────────────────── - ───────────\n",
       "⎜⎢         3                   3        ⎥, ⎢          3                     3 \n",
       "⎜⎢                                      ⎥  ⎢                                  \n",
       "⎝⎣ A₁⋅sin(φ₁ + 2⋅t) + A₂⋅sin(φ₂ - √2⋅t) ⎦  ⎣ 2⋅A₁⋅cos(φ₁ + 2⋅t) - √2⋅A₂⋅cos(φ₂\n",
       "\n",
       "₂ - √2⋅t)⎤⎞\n",
       "─────────⎥⎟\n",
       "         ⎥⎟\n",
       "         ⎥⎟\n",
       " - √2⋅t) ⎦⎠"
      ]
     },
     "execution_count": 279,
     "metadata": {},
     "output_type": "execute_result"
    }
   ],
   "source": [
    "A1, A2, phi1, phi2, t = sym.symbols('A1,A2,phi1,phi2, t')\n",
    "\n",
    "func = sym.Matrix([[A1*sym.sin(val_omg1*t + phi1)],[A2*sym.sin(val_omg2*t+phi2)]])\n",
    "x_t = u*func\n",
    "dx_t = sym.diff(x_t,t)\n",
    "\n",
    "print('Posição [m], Velocidade [m/s]')\n",
    "x_t, dx_t"
   ]
  },
  {
   "cell_type": "markdown",
   "metadata": {},
   "source": [
    "Definindo as condições iniciais."
   ]
  },
  {
   "cell_type": "code",
   "execution_count": 282,
   "metadata": {},
   "outputs": [
    {
     "data": {
      "image/png": "[encoded data removed]",
      "text/latex": [
       "$\\displaystyle \\left( \\left[\\begin{matrix}- \\frac{A_{1} \\sin{\\left(\\phi_{1} \\right)}}{3} + \\frac{A_{2} \\sin{\\left(\\phi_{2} \\right)}}{3}\\\\A_{1} \\sin{\\left(\\phi_{1} \\right)} + A_{2} \\sin{\\left(\\phi_{2} \\right)}\\end{matrix}\\right], \\  \\left[\\begin{matrix}- \\frac{2 A_{1} \\cos{\\left(\\phi_{1} \\right)}}{3} - \\frac{\\sqrt{2} A_{2} \\cos{\\left(\\phi_{2} \\right)}}{3}\\\\2 A_{1} \\cos{\\left(\\phi_{1} \\right)} - \\sqrt{2} A_{2} \\cos{\\left(\\phi_{2} \\right)}\\end{matrix}\\right]\\right)$"
      ],
      "text/plain": [
       "⎛⎡  A₁⋅sin(φ₁)   A₂⋅sin(φ₂)⎤  ⎡  2⋅A₁⋅cos(φ₁)   √2⋅A₂⋅cos(φ₂)⎤⎞\n",
       "⎜⎢- ────────── + ──────────⎥  ⎢- ──────────── - ─────────────⎥⎟\n",
       "⎜⎢      3            3     ⎥, ⎢       3               3      ⎥⎟\n",
       "⎜⎢                         ⎥  ⎢                              ⎥⎟\n",
       "⎝⎣ A₁⋅sin(φ₁) + A₂⋅sin(φ₂) ⎦  ⎣ 2⋅A₁⋅cos(φ₁) - √2⋅A₂⋅cos(φ₂) ⎦⎠"
      ]
     },
     "execution_count": 282,
     "metadata": {},
     "output_type": "execute_result"
    }
   ],
   "source": [
    "vet_x_0 = sym.Matrix([[x0_1],[x0_2]])\n",
    "vet_dx_0 = sym.Matrix([[dx0_1],[dx0_2]])\n",
    "\n",
    "x_0, dx_0"
   ]
  },
  {
   "cell_type": "markdown",
   "metadata": {},
   "source": [
    "Em $t=0s$"
   ]
  },
  {
   "cell_type": "code",
   "execution_count": 283,
   "metadata": {},
   "outputs": [
    {
     "name": "stdout",
     "output_type": "stream",
     "text": [
      "Posição [m] (t=0), Velocidade [m/s] (t=0)\n"
     ]
    },
    {
     "data": {
      "image/png": "[encoded data removed]",
      "text/latex": [
       "$\\displaystyle \\left( \\left[\\begin{matrix}- \\frac{A_{1} \\sin{\\left(\\phi_{1} \\right)}}{3} + \\frac{A_{2} \\sin{\\left(\\phi_{2} \\right)}}{3}\\\\A_{1} \\sin{\\left(\\phi_{1} \\right)} + A_{2} \\sin{\\left(\\phi_{2} \\right)}\\end{matrix}\\right], \\  \\left[\\begin{matrix}- \\frac{2 A_{1} \\cos{\\left(\\phi_{1} \\right)}}{3} - \\frac{\\sqrt{2} A_{2} \\cos{\\left(\\phi_{2} \\right)}}{3}\\\\2 A_{1} \\cos{\\left(\\phi_{1} \\right)} - \\sqrt{2} A_{2} \\cos{\\left(\\phi_{2} \\right)}\\end{matrix}\\right]\\right)$"
      ],
      "text/plain": [
       "⎛⎡  A₁⋅sin(φ₁)   A₂⋅sin(φ₂)⎤  ⎡  2⋅A₁⋅cos(φ₁)   √2⋅A₂⋅cos(φ₂)⎤⎞\n",
       "⎜⎢- ────────── + ──────────⎥  ⎢- ──────────── - ─────────────⎥⎟\n",
       "⎜⎢      3            3     ⎥, ⎢       3               3      ⎥⎟\n",
       "⎜⎢                         ⎥  ⎢                              ⎥⎟\n",
       "⎝⎣ A₁⋅sin(φ₁) + A₂⋅sin(φ₂) ⎦  ⎣ 2⋅A₁⋅cos(φ₁) - √2⋅A₂⋅cos(φ₂) ⎦⎠"
      ]
     },
     "execution_count": 283,
     "metadata": {},
     "output_type": "execute_result"
    }
   ],
   "source": [
    "x_0 = x_t.subs(t,0) \n",
    "dx_0 = dx_t.subs(t,0)\n",
    "\n",
    "print('Posição [m] (t=0), Velocidade [m/s] (t=0)')\n",
    "x_0, dx_0"
   ]
  },
  {
   "cell_type": "markdown",
   "metadata": {},
   "source": [
    "Igualando as condições iniciais com as funções x_0 e dx_0 obtemos as seguintes equações"
   ]
  },
  {
   "cell_type": "code",
   "execution_count": 293,
   "metadata": {
    "scrolled": true
   },
   "outputs": [
    {
     "data": {
      "image/png": "[encoded data removed]",
      "text/latex": [
       "$\\displaystyle \\left[\\begin{matrix}- \\frac{A_{1} \\sin{\\left(\\phi_{1} \\right)}}{3} + \\frac{A_{2} \\sin{\\left(\\phi_{2} \\right)}}{3} - 1\\\\A_{1} \\sin{\\left(\\phi_{1} \\right)} + A_{2} \\sin{\\left(\\phi_{2} \\right)}\\\\- \\frac{2 A_{1} \\cos{\\left(\\phi_{1} \\right)}}{3} - \\frac{\\sqrt{2} A_{2} \\cos{\\left(\\phi_{2} \\right)}}{3}\\\\2 A_{1} \\cos{\\left(\\phi_{1} \\right)} - \\sqrt{2} A_{2} \\cos{\\left(\\phi_{2} \\right)}\\end{matrix}\\right]$"
      ],
      "text/plain": [
       "⎡  A₁⋅sin(φ₁)   A₂⋅sin(φ₂)     ⎤\n",
       "⎢- ────────── + ────────── - 1 ⎥\n",
       "⎢      3            3          ⎥\n",
       "⎢                              ⎥\n",
       "⎢   A₁⋅sin(φ₁) + A₂⋅sin(φ₂)    ⎥\n",
       "⎢                              ⎥\n",
       "⎢  2⋅A₁⋅cos(φ₁)   √2⋅A₂⋅cos(φ₂)⎥\n",
       "⎢- ──────────── - ─────────────⎥\n",
       "⎢       3               3      ⎥\n",
       "⎢                              ⎥\n",
       "⎣ 2⋅A₁⋅cos(φ₁) - √2⋅A₂⋅cos(φ₂) ⎦"
      ]
     },
     "execution_count": 293,
     "metadata": {},
     "output_type": "execute_result"
    }
   ],
   "source": [
    "sol_x = x_0 - vet_x_0\n",
    "sol_dx = dx_0 - vet_dx_0\n",
    "\n",
    "sol_eqtns = sym.Matrix([[sol_x],[sol_dx]]) \n",
    "\n",
    "vals = sym.solve(sol_eqns, (A1,A2,phi1,phi2))\n",
    "\n",
    "sol_eqtns"
   ]
  },
  {
   "cell_type": "code",
   "execution_count": null,
   "metadata": {},
   "outputs": [],
   "source": []
  },
  {
   "cell_type": "code",
   "execution_count": null,
   "metadata": {},
   "outputs": [],
   "source": []
  },
  {
   "cell_type": "code",
   "execution_count": null,
   "metadata": {},
   "outputs": [],
   "source": []
  },
  {
   "cell_type": "markdown",
   "metadata": {},
   "source": [
    "#### Feito"
   ]
  },
  {
   "cell_type": "markdown",
   "metadata": {},
   "source": [
    "## Autovalores e Autovetores\n",
    "O mesmo problema pode ser solucionado usando os autovalores e autovetores"
   ]
  },
  {
   "cell_type": "code",
   "execution_count": null,
   "metadata": {},
   "outputs": [],
   "source": []
  },
  {
   "cell_type": "code",
   "execution_count": null,
   "metadata": {},
   "outputs": [],
   "source": []
  },
  {
   "cell_type": "code",
   "execution_count": null,
   "metadata": {},
   "outputs": [],
   "source": []
  },
  {
   "cell_type": "code",
   "execution_count": null,
   "metadata": {},
   "outputs": [],
   "source": [
    "mod1 = sym.solve(sys1,(u11,u12))\n",
    "mod1\n",
    "\n",
    "mod2 = sym.solve(sys2,(u21,u22))\n",
    "mod2"
   ]
  },
  {
   "cell_type": "code",
   "execution_count": null,
   "metadata": {},
   "outputs": [],
   "source": []
  },
  {
   "cell_type": "code",
   "execution_count": 61,
   "metadata": {},
   "outputs": [
    {
     "name": "stdout",
     "output_type": "stream",
     "text": [
      "Help on function symbols in module sympy.core.symbol:\n",
      "\n",
      "symbols(names, **args)\n",
      "    Transform strings into instances of :class:`Symbol` class.\n",
      "    \n",
      "    :func:`symbols` function returns a sequence of symbols with names taken\n",
      "    from ``names`` argument, which can be a comma or whitespace delimited\n",
      "    string, or a sequence of strings::\n",
      "    \n",
      "        >>> from sympy import symbols, Function\n",
      "    \n",
      "        >>> x, y, z = symbols('x,y,z')\n",
      "        >>> a, b, c = symbols('a b c')\n",
      "    \n",
      "    The type of output is dependent on the properties of input arguments::\n",
      "    \n",
      "        >>> symbols('x')\n",
      "        x\n",
      "        >>> symbols('x,')\n",
      "        (x,)\n",
      "        >>> symbols('x,y')\n",
      "        (x, y)\n",
      "        >>> symbols(('a', 'b', 'c'))\n",
      "        (a, b, c)\n",
      "        >>> symbols(['a', 'b', 'c'])\n",
      "        [a, b, c]\n",
      "        >>> symbols({'a', 'b', 'c'})\n",
      "        {a, b, c}\n",
      "    \n",
      "    If an iterable container is needed for a single symbol, set the ``seq``\n",
      "    argument to ``True`` or terminate the symbol name with a comma::\n",
      "    \n",
      "        >>> symbols('x', seq=True)\n",
      "        (x,)\n",
      "    \n",
      "    To reduce typing, range syntax is supported to create indexed symbols.\n",
      "    Ranges are indicated by a colon and the type of range is determined by\n",
      "    the character to the right of the colon. If the character is a digit\n",
      "    then all contiguous digits to the left are taken as the nonnegative\n",
      "    starting value (or 0 if there is no digit left of the colon) and all\n",
      "    contiguous digits to the right are taken as 1 greater than the ending\n",
      "    value::\n",
      "    \n",
      "        >>> symbols('x:10')\n",
      "        (x0, x1, x2, x3, x4, x5, x6, x7, x8, x9)\n",
      "    \n",
      "        >>> symbols('x5:10')\n",
      "        (x5, x6, x7, x8, x9)\n",
      "        >>> symbols('x5(:2)')\n",
      "        (x50, x51)\n",
      "    \n",
      "        >>> symbols('x5:10,y:5')\n",
      "        (x5, x6, x7, x8, x9, y0, y1, y2, y3, y4)\n",
      "    \n",
      "        >>> symbols(('x5:10', 'y:5'))\n",
      "        ((x5, x6, x7, x8, x9), (y0, y1, y2, y3, y4))\n",
      "    \n",
      "    If the character to the right of the colon is a letter, then the single\n",
      "    letter to the left (or 'a' if there is none) is taken as the start\n",
      "    and all characters in the lexicographic range *through* the letter to\n",
      "    the right are used as the range::\n",
      "    \n",
      "        >>> symbols('x:z')\n",
      "        (x, y, z)\n",
      "        >>> symbols('x:c')  # null range\n",
      "        ()\n",
      "        >>> symbols('x(:c)')\n",
      "        (xa, xb, xc)\n",
      "    \n",
      "        >>> symbols(':c')\n",
      "        (a, b, c)\n",
      "    \n",
      "        >>> symbols('a:d, x:z')\n",
      "        (a, b, c, d, x, y, z)\n",
      "    \n",
      "        >>> symbols(('a:d', 'x:z'))\n",
      "        ((a, b, c, d), (x, y, z))\n",
      "    \n",
      "    Multiple ranges are supported; contiguous numerical ranges should be\n",
      "    separated by parentheses to disambiguate the ending number of one\n",
      "    range from the starting number of the next::\n",
      "    \n",
      "        >>> symbols('x:2(1:3)')\n",
      "        (x01, x02, x11, x12)\n",
      "        >>> symbols(':3:2')  # parsing is from left to right\n",
      "        (00, 01, 10, 11, 20, 21)\n",
      "    \n",
      "    Only one pair of parentheses surrounding ranges are removed, so to\n",
      "    include parentheses around ranges, double them. And to include spaces,\n",
      "    commas, or colons, escape them with a backslash::\n",
      "    \n",
      "        >>> symbols('x((a:b))')\n",
      "        (x(a), x(b))\n",
      "        >>> symbols(r'x(:1\\,:2)')  # or r'x((:1)\\,(:2))'\n",
      "        (x(0,0), x(0,1))\n",
      "    \n",
      "    All newly created symbols have assumptions set according to ``args``::\n",
      "    \n",
      "        >>> a = symbols('a', integer=True)\n",
      "        >>> a.is_integer\n",
      "        True\n",
      "    \n",
      "        >>> x, y, z = symbols('x,y,z', real=True)\n",
      "        >>> x.is_real and y.is_real and z.is_real\n",
      "        True\n",
      "    \n",
      "    Despite its name, :func:`symbols` can create symbol-like objects like\n",
      "    instances of Function or Wild classes. To achieve this, set ``cls``\n",
      "    keyword argument to the desired type::\n",
      "    \n",
      "        >>> symbols('f,g,h', cls=Function)\n",
      "        (f, g, h)\n",
      "    \n",
      "        >>> type(_[0])\n",
      "        <class 'sympy.core.function.UndefinedFunction'>\n",
      "\n"
     ]
    }
   ],
   "source": [
    "help(sym.symbols)"
   ]
  },
  {
   "cell_type": "code",
   "execution_count": null,
   "metadata": {},
   "outputs": [],
   "source": []
  }
 ],
 "metadata": {
  "kernelspec": {
   "display_name": "Python 3",
   "language": "python",
   "name": "python3"
  },
  "language_info": {
   "codemirror_mode": {
    "name": "ipython",
    "version": 3
   },
   "file_extension": ".py",
   "mimetype": "text/x-python",
   "name": "python",
   "nbconvert_exporter": "python",
   "pygments_lexer": "ipython3",
   "version": "3.7.6"
  }
 },
 "nbformat": 4,
 "nbformat_minor": 4
}
