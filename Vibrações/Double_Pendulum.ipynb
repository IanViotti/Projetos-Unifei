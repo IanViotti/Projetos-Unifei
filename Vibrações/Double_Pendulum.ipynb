{
 "cells": [
  {
   "attachments": {
    "4ca987ae-ba96-40af-998a-e7677aed129e.png": {
     "image/png": "[encoded data removed]"
    }
   },
   "cell_type": "markdown",
   "id": "81cd7955-5923-43a2-bde0-274966b4a938",
   "metadata": {
    "tags": []
   },
   "source": [
    "# Modelagem de um pêndulo duplo com mecânica Lagrangeana\n",
    "\n",
    "![image.png](attachment:4ca987ae-ba96-40af-998a-e7677aed129e.png)"
   ]
  },
  {
   "cell_type": "markdown",
   "id": "6779f0ad-d955-4c1b-920a-8c574ebd66f7",
   "metadata": {},
   "source": [
    "## Definindo as variáveis simbólicas"
   ]
  },
  {
   "cell_type": "code",
   "execution_count": 1,
   "id": "151376c2-f1d6-4ccb-841e-db89257736e7",
   "metadata": {
    "tags": []
   },
   "outputs": [],
   "source": [
    "import matplotlib.pyplot as plt\n",
    "import sympy as sym\n",
    "import numpy as np\n",
    "from scipy.integrate import odeint\n",
    "from matplotlib import animation\n",
    "from matplotlib.animation import PillowWriter"
   ]
  },
  {
   "cell_type": "code",
   "execution_count": 2,
   "id": "64a73a1e-8181-4c6f-b4a6-9529ab4dd025",
   "metadata": {
    "tags": []
   },
   "outputs": [],
   "source": [
    "m1,m2,l1,l2,g,t  = sym.symbols('m1 m2 l1 l2 g t')\n",
    "the1,the2 = sym.symbols(r'theta1 theta2',cls=sym.Function)"
   ]
  },
  {
   "cell_type": "markdown",
   "id": "b721eed1-266b-44a0-aa5f-1802f4398af7",
   "metadata": {},
   "source": [
    "Definindo as derivadas de  $\\theta$ no tempo."
   ]
  },
  {
   "cell_type": "code",
   "execution_count": 3,
   "id": "78af09e1-779f-47a4-bfee-bec6228ca36e",
   "metadata": {
    "tags": []
   },
   "outputs": [],
   "source": [
    "the1 = the1(t)\n",
    "the2 = the2(t)\n",
    "the1_d = sym.diff(the1,t)\n",
    "the2_d = sym.diff(the2,t)\n",
    "the1_dd = sym.diff(the1_d,t)\n",
    "the2_dd = sym.diff(the2_d,t)"
   ]
  },
  {
   "cell_type": "markdown",
   "id": "7ae90eb1-b486-4722-8270-d4c9c1588334",
   "metadata": {},
   "source": [
    "Definindo as variáveis x e y das duas massas"
   ]
  },
  {
   "cell_type": "code",
   "execution_count": 4,
   "id": "f6133b84-f80d-4c5b-9c0a-2246115a4224",
   "metadata": {
    "tags": []
   },
   "outputs": [],
   "source": [
    "x1 = -l1*sym.sin(the1)\n",
    "y1 = -l1*sym.cos(the1)\n",
    "x2 = -l2*sym.sin(the2) + x1\n",
    "y2 = -l2*sym.cos(the2) + y1"
   ]
  },
  {
   "cell_type": "markdown",
   "id": "b2a05046-314a-4ce3-a94d-a052919f002a",
   "metadata": {},
   "source": [
    "## Equação de Lagrange\n",
    "\n",
    "Defininindo os valores de energia cinética (T) e energia potencial (U) de cada massa\n",
    "\n",
    "$ T = \\frac{mV^2}{2} $\n",
    "\n",
    "$ U = mgh $\n",
    "\n",
    "Neste caso, a única energia potencial é a gravitacional (Não considerando os efeitos elásticos do sistema).\n",
    "\n",
    "O Lagrangiano (L) pode ser definido como a diferença da energia cinética pela potencial\n",
    "\n",
    "$ L = T - U $"
   ]
  },
  {
   "cell_type": "code",
   "execution_count": 5,
   "id": "8d62f004-fd8c-4921-ae5b-b0e257f8c705",
   "metadata": {
    "tags": []
   },
   "outputs": [
    {
     "data": {
      "text/latex": [
       "$\\displaystyle g l_{1} m_{1} \\cos{\\left(\\theta_{1}{\\left(t \\right)} \\right)} - g m_{2} \\left(- l_{1} \\cos{\\left(\\theta_{1}{\\left(t \\right)} \\right)} - l_{2} \\cos{\\left(\\theta_{2}{\\left(t \\right)} \\right)}\\right) + 0.5 m_{1} \\left(l_{1}^{2} \\sin^{2}{\\left(\\theta_{1}{\\left(t \\right)} \\right)} \\left(\\frac{d}{d t} \\theta_{1}{\\left(t \\right)}\\right)^{2} + l_{1}^{2} \\cos^{2}{\\left(\\theta_{1}{\\left(t \\right)} \\right)} \\left(\\frac{d}{d t} \\theta_{1}{\\left(t \\right)}\\right)^{2}\\right) + 0.5 m_{2} \\left(\\left(l_{1} \\sin{\\left(\\theta_{1}{\\left(t \\right)} \\right)} \\frac{d}{d t} \\theta_{1}{\\left(t \\right)} + l_{2} \\sin{\\left(\\theta_{2}{\\left(t \\right)} \\right)} \\frac{d}{d t} \\theta_{2}{\\left(t \\right)}\\right)^{2} + \\left(- l_{1} \\cos{\\left(\\theta_{1}{\\left(t \\right)} \\right)} \\frac{d}{d t} \\theta_{1}{\\left(t \\right)} - l_{2} \\cos{\\left(\\theta_{2}{\\left(t \\right)} \\right)} \\frac{d}{d t} \\theta_{2}{\\left(t \\right)}\\right)^{2}\\right)$"
      ],
      "text/plain": [
       "g*l1*m1*cos(theta1(t)) - g*m2*(-l1*cos(theta1(t)) - l2*cos(theta2(t))) + 0.5*m1*(l1**2*sin(theta1(t))**2*Derivative(theta1(t), t)**2 + l1**2*cos(theta1(t))**2*Derivative(theta1(t), t)**2) + 0.5*m2*((l1*sin(theta1(t))*Derivative(theta1(t), t) + l2*sin(theta2(t))*Derivative(theta2(t), t))**2 + (-l1*cos(theta1(t))*Derivative(theta1(t), t) - l2*cos(theta2(t))*Derivative(theta2(t), t))**2)"
      ]
     },
     "execution_count": 5,
     "metadata": {},
     "output_type": "execute_result"
    }
   ],
   "source": [
    "T1 = 1/2*m1*(sym.diff(x1,t)**2 + sym.diff(y1,t)**2)\n",
    "U1 = y1*m1*g\n",
    "\n",
    "T2 = 1/2*m2*(sym.diff(x2,t)**2 + sym.diff(y2,t)**2)\n",
    "U2 = y2*m2*g\n",
    "\n",
    "T = T1 + T2\n",
    "U = U1 + U2\n",
    "\n",
    "L = T - U\n",
    "L"
   ]
  },
  {
   "cell_type": "markdown",
   "id": "ae5a30e9-a131-4b2e-ae89-4c4503b36ba0",
   "metadata": {},
   "source": [
    "A equação de Lagrange é\n",
    "\n",
    "$ \\frac{d}{dt}\\frac{\\partial L}{\\partial \\dot{q}_i} - \\frac{\\partial L}{\\partial q_i} = Q_i $\n",
    "\n",
    "Onde $ q_i $ são as variáveis independentes do sistema\n",
    "\n",
    "$ q_1 = \\theta_1 $\n",
    "\n",
    "$ q_2 = \\theta_2 $\n",
    "\n",
    "e $ Q_i $ representa a perda de energia do sistema. Como ele é conservativo, $ Q_i = 0 $."
   ]
  },
  {
   "cell_type": "code",
   "execution_count": 6,
   "id": "82751ae9-b8ea-4359-8f73-510ac909b9b0",
   "metadata": {
    "jupyter": {
     "source_hidden": true
    }
   },
   "outputs": [
    {
     "data": {
      "text/latex": [
       "$\\displaystyle l_{1} \\left(g m_{1} \\sin{\\left(\\theta_{1}{\\left(t \\right)} \\right)} + g m_{2} \\sin{\\left(\\theta_{1}{\\left(t \\right)} \\right)} + l_{1} m_{1} \\frac{d^{2}}{d t^{2}} \\theta_{1}{\\left(t \\right)} + l_{1} m_{2} \\frac{d^{2}}{d t^{2}} \\theta_{1}{\\left(t \\right)} + l_{2} m_{2} \\sin{\\left(\\theta_{1}{\\left(t \\right)} - \\theta_{2}{\\left(t \\right)} \\right)} \\left(\\frac{d}{d t} \\theta_{2}{\\left(t \\right)}\\right)^{2} + l_{2} m_{2} \\cos{\\left(\\theta_{1}{\\left(t \\right)} - \\theta_{2}{\\left(t \\right)} \\right)} \\frac{d^{2}}{d t^{2}} \\theta_{2}{\\left(t \\right)}\\right)$"
      ],
      "text/plain": [
       "l1*(g*m1*sin(theta1(t)) + g*m2*sin(theta1(t)) + l1*m1*Derivative(theta1(t), (t, 2)) + l1*m2*Derivative(theta1(t), (t, 2)) + l2*m2*sin(theta1(t) - theta2(t))*Derivative(theta2(t), t)**2 + l2*m2*cos(theta1(t) - theta2(t))*Derivative(theta2(t), (t, 2)))"
      ]
     },
     "execution_count": 6,
     "metadata": {},
     "output_type": "execute_result"
    }
   ],
   "source": [
    "EqL1 = (sym.diff(sym.diff(L,the1_d),t)-sym.diff(L,the1)).simplify()\n",
    "EqL2 = (sym.diff(sym.diff(L,the2_d),t)-sym.diff(L,the2)).simplify()\n",
    "EqL1"
   ]
  },
  {
   "cell_type": "markdown",
   "id": "0ae8513b-5b53-4885-98f5-a8e46d5c2ba8",
   "metadata": {},
   "source": [
    "Nota-se que para $\\ddot{\\theta}_i $, a equação é linear, portanto resolveremos as duas equações de Lagrange (que são iguais à 0) para $\\ddot{\\theta}_1$ e $\\ddot{\\theta}_2$. "
   ]
  },
  {
   "cell_type": "code",
   "execution_count": 7,
   "id": "823a9de6-0e58-4441-b8e7-ac05fb0cb38a",
   "metadata": {
    "tags": []
   },
   "outputs": [
    {
     "data": {
      "text/latex": [
       "$\\displaystyle - \\frac{g m_{1} \\sin{\\left(\\theta_{1}{\\left(t \\right)} \\right)}}{l_{1} m_{1} - l_{1} m_{2} \\cos^{2}{\\left(\\theta_{1}{\\left(t \\right)} - \\theta_{2}{\\left(t \\right)} \\right)} + l_{1} m_{2}} - \\frac{g m_{2} \\sin{\\left(\\theta_{1}{\\left(t \\right)} \\right)}}{l_{1} m_{1} - l_{1} m_{2} \\cos^{2}{\\left(\\theta_{1}{\\left(t \\right)} - \\theta_{2}{\\left(t \\right)} \\right)} + l_{1} m_{2}} + \\frac{g m_{2} \\sin{\\left(\\theta_{2}{\\left(t \\right)} \\right)} \\cos{\\left(\\theta_{1}{\\left(t \\right)} - \\theta_{2}{\\left(t \\right)} \\right)}}{l_{1} m_{1} - l_{1} m_{2} \\cos^{2}{\\left(\\theta_{1}{\\left(t \\right)} - \\theta_{2}{\\left(t \\right)} \\right)} + l_{1} m_{2}} - \\frac{l_{1} m_{2} \\sin{\\left(\\theta_{1}{\\left(t \\right)} - \\theta_{2}{\\left(t \\right)} \\right)} \\cos{\\left(\\theta_{1}{\\left(t \\right)} - \\theta_{2}{\\left(t \\right)} \\right)} \\left(\\frac{d}{d t} \\theta_{1}{\\left(t \\right)}\\right)^{2}}{l_{1} m_{1} - l_{1} m_{2} \\cos^{2}{\\left(\\theta_{1}{\\left(t \\right)} - \\theta_{2}{\\left(t \\right)} \\right)} + l_{1} m_{2}} - \\frac{l_{2} m_{2} \\sin{\\left(\\theta_{1}{\\left(t \\right)} - \\theta_{2}{\\left(t \\right)} \\right)} \\left(\\frac{d}{d t} \\theta_{2}{\\left(t \\right)}\\right)^{2}}{l_{1} m_{1} - l_{1} m_{2} \\cos^{2}{\\left(\\theta_{1}{\\left(t \\right)} - \\theta_{2}{\\left(t \\right)} \\right)} + l_{1} m_{2}}$"
      ],
      "text/plain": [
       "-g*m1*sin(theta1(t))/(l1*m1 - l1*m2*cos(theta1(t) - theta2(t))**2 + l1*m2) - g*m2*sin(theta1(t))/(l1*m1 - l1*m2*cos(theta1(t) - theta2(t))**2 + l1*m2) + g*m2*sin(theta2(t))*cos(theta1(t) - theta2(t))/(l1*m1 - l1*m2*cos(theta1(t) - theta2(t))**2 + l1*m2) - l1*m2*sin(theta1(t) - theta2(t))*cos(theta1(t) - theta2(t))*Derivative(theta1(t), t)**2/(l1*m1 - l1*m2*cos(theta1(t) - theta2(t))**2 + l1*m2) - l2*m2*sin(theta1(t) - theta2(t))*Derivative(theta2(t), t)**2/(l1*m1 - l1*m2*cos(theta1(t) - theta2(t))**2 + l1*m2)"
      ]
     },
     "execution_count": 7,
     "metadata": {},
     "output_type": "execute_result"
    }
   ],
   "source": [
    "sol = sym.solve([EqL1,EqL2],(the1_dd,the2_dd))\n",
    "sol[the1_dd]"
   ]
  },
  {
   "cell_type": "markdown",
   "id": "291055dd-5a04-4d6a-800d-334346cd5801",
   "metadata": {},
   "source": [
    "Agora temos um sistema do tipo\n",
    "\n",
    "$ \\frac{d^2\\theta_i}{dt^2} = f(\\theta_i, \\frac{d\\theta_i}{dt}) $\n",
    "\n",
    "Que é uma EDO"
   ]
  },
  {
   "cell_type": "markdown",
   "id": "92717465-a40b-40bc-9a8c-1a751c0fea9d",
   "metadata": {},
   "source": [
    "## Equações diferenciais resultantes\n",
    "\n",
    "Agora, com o valor da segunda derivada dois dois thetas ($d^2\\theta_i/dt^2$), temos um conjunto de equações diferenciais de segunda ordem.\n",
    "\n",
    "\n",
    "Para resolver esse tipo de problema com o Python, basta escrever essas EDOs como de primeira ordem. Assim,\n",
    "\n",
    "- $ v_i = \\frac{d\\theta_i}{dt} $\n",
    "- $ dv_i/dt = \\frac{d^2\\theta_i}{dt^2} $\n",
    "\n",
    "Agora, ao invés de termos 2 EDOs de segunda ordem, temos um sistema de 4 EDOs de primeira ordem.\n",
    "\n",
    "- $ EDO_1 \\rightarrow v_1= \\frac{d\\theta_1}{dt} $ \n",
    "- $ EDO_2 \\rightarrow v_2= \\frac{d\\theta_2}{dt} $ \n",
    "- $ EDO_3 \\rightarrow dv_1/dt= \\frac{d^2\\theta_2}{dt^2} $ \n",
    "- $ EDO_4 \\rightarrow dv_2/dt=\\frac{d^2\\theta_2}{dt^2} $ \n",
    "\n",
    "\n",
    "Para resolver essas EDOs, é preciso converter os valores algébricos para valores numéricos. Para isso, usaremos a função ``lambdify()`` ."
   ]
  },
  {
   "cell_type": "code",
   "execution_count": 8,
   "id": "b7a16952-14a1-45e0-a1cd-1f437f7b19fd",
   "metadata": {
    "jupyter": {
     "source_hidden": true
    }
   },
   "outputs": [],
   "source": [
    "dv1_f = sym.lambdify((t,g,m1,m2,l1,l2,the1,the2,the1_d,the2_d),sol[the1_dd])\n",
    "dv2_f = sym.lambdify((t,g,m1,m2,l1,l2,the1,the2,the1_d,the2_d),sol[the2_dd])\n",
    "v1_f = sym.lambdify(the1_d,the1_d)\n",
    "v2_f = sym.lambdify(the2_d,the2_d)"
   ]
  },
  {
   "cell_type": "markdown",
   "id": "536da858-7007-4f1c-aa98-f5062120d02c",
   "metadata": {},
   "source": [
    "Agora as equações estão prontas para serem resolvidas. \n",
    "\n",
    "Para resolver esse conjunto de EDOs, temos que definir uma função que toma os valores de input ($\\theta_1,\\theta_2,a_1,a_2$) e tempo retornará sua derivada. \n",
    "\n",
    "- $ S = (\\theta_1,\\theta_2,v_1,v_2) $\n",
    "- $ dS/dt = (v_1,v_2,dv_1/dt,dv_2/dt) $"
   ]
  },
  {
   "cell_type": "code",
   "execution_count": 11,
   "id": "03861f14-6f62-46b9-9833-537d6713190e",
   "metadata": {
    "tags": []
   },
   "outputs": [],
   "source": [
    "def dSdt(S,t,g,m1,m2,l1,l2):\n",
    "    the1, the2, v1, v2 = S\n",
    "    return[\n",
    "        v1_f(v1),\n",
    "        v2_f(v2),\n",
    "        dv1_f(t,g,m1,m2,l1,l2,the1,the2,v1,v2),\n",
    "        dv2_f(t,g,m1,m2,l1,l2,the1,the2,v1,v2),\n",
    "    ]"
   ]
  },
  {
   "cell_type": "markdown",
   "id": "a768b076-eb02-4ffc-8118-96374d34f9a0",
   "metadata": {},
   "source": [
    "## Solução numérica\n",
    "\n",
    "Finalmente, adotando valores numéricos para as constantes e usando a função ```odeint()```, conseguimos obter a solução"
   ]
  },
  {
   "cell_type": "code",
   "execution_count": 32,
   "id": "933f62c9-b902-4814-a3b5-5809e1eab6ef",
   "metadata": {
    "tags": []
   },
   "outputs": [],
   "source": [
    "t_f = 50 #s\n",
    "n_passo = 1000\n",
    "t = np.linspace(0,t_f,n_passo)\n",
    "\n",
    "# ===== Valores das constantes\n",
    "m1 = 1 # Kg\n",
    "m2 = 3 # Kg\n",
    "l1 = 1 # m\n",
    "l2 = 1.5 # m\n",
    "g = 9.8 # m/s2\n",
    "\n",
    "# ===== Condições iniciais\n",
    "the1_0 = 1 # rad\n",
    "the2_0 = -1.5 # rad\n",
    "dthe1_0 = 2  # rad/s\n",
    "dthe2_0 = -1  # rad/s\n",
    "\n",
    "resposta = odeint(dSdt,y0=[the1_0,the2_0,dthe1_0,dthe2_0],t=t,args=(g,m1,m2,l1,l2))"
   ]
  },
  {
   "cell_type": "code",
   "execution_count": 33,
   "id": "0cc7c4f5-0f81-4f8f-a4f2-371076137d64",
   "metadata": {
    "tags": []
   },
   "outputs": [],
   "source": [
    "the1_t = resposta.T[0]\n",
    "the2_t = resposta.T[1]\n",
    "dthe1_t = resposta.T[2]\n",
    "dthe2_t = resposta.T[3]"
   ]
  },
  {
   "cell_type": "markdown",
   "id": "65427d9f-ae7b-45d3-979a-e39f5dedeef2",
   "metadata": {},
   "source": [
    "## Visualização dos resultados"
   ]
  },
  {
   "cell_type": "code",
   "execution_count": 34,
   "id": "5c351a97-f296-4dc2-b051-2c174f99d04d",
   "metadata": {
    "tags": []
   },
   "outputs": [
    {
     "data": {
      "text/plain": [
       "[<matplotlib.lines.Line2D at 0x19b001a0400>]"
      ]
     },
     "execution_count": 34,
     "metadata": {},
     "output_type": "execute_result"
    },
    {
     "data": {
      "image/png": "[encoded data removed]",
      "text/plain": [
       "<Figure size 432x288 with 1 Axes>"
      ]
     },
     "metadata": {
      "needs_background": "light"
     },
     "output_type": "display_data"
    }
   ],
   "source": [
    "plt.plot(t,the1_t)"
   ]
  },
  {
   "cell_type": "markdown",
   "id": "61779e50-7577-4512-8ce1-a86fc4471859",
   "metadata": {},
   "source": [
    "Função que recebe o valor de $\\theta_i$ e retorna a posição $ x_i $ e $ y_i $ das massas para fazer a animação."
   ]
  },
  {
   "cell_type": "code",
   "execution_count": 35,
   "id": "14096e84-aa98-4ec4-9475-b042337a5f70",
   "metadata": {
    "tags": []
   },
   "outputs": [],
   "source": [
    "def get_pos(t,the1,the2,l1,l2):\n",
    "    x1 = -l1*np.sin(the1)\n",
    "    y1 = -l1*np.cos(the1)\n",
    "    x2 = -l2*np.sin(the2) + x1\n",
    "    y2 = -l2*np.cos(the2) + y1\n",
    "    return[\n",
    "        x1,y1,x2,y2\n",
    "    ]\n",
    "\n",
    "x1,y1,x2,y2 = get_pos(t,the1_t,the2_t,l1,l2)"
   ]
  },
  {
   "cell_type": "code",
   "execution_count": 37,
   "id": "c151c4b9-c995-4c53-8e88-047cbdf2dea3",
   "metadata": {
    "tags": []
   },
   "outputs": [
    {
     "data": {
      "image/png": "[encoded data removed]",
      "text/plain": [
       "<Figure size 576x576 with 1 Axes>"
      ]
     },
     "metadata": {},
     "output_type": "display_data"
    }
   ],
   "source": [
    "def animate(i):\n",
    "    ln1.set_data([0, x1[i], x2[i]], [0, y1[i], y2[i]])\n",
    "    \n",
    "fig, ax = plt.subplots(1,1, figsize=(8,8))\n",
    "ax.set_facecolor('k')\n",
    "ax.get_xaxis().set_ticks([])    # Para tirar o eixo x\n",
    "ax.get_yaxis().set_ticks([])    \n",
    "ln1, = plt.plot([], [], 'wo--', lw=3, markersize=12)\n",
    "ax.set_ylim(-4,4)\n",
    "ax.set_xlim(-4,4)\n",
    "ani = animation.FuncAnimation(fig, animate, frames=n_passo, interval=50)\n",
    "ani.save('pen.gif',writer='pillow',fps=len(t[t<1])) # FPS deve ser o número de intervalos em 1 segundo"
   ]
  },
  {
   "cell_type": "code",
   "execution_count": null,
   "id": "09a9080e-3484-4ce9-8331-9e775f123063",
   "metadata": {
    "tags": []
   },
   "outputs": [],
   "source": []
  }
 ],
 "metadata": {
  "kernelspec": {
   "display_name": "Python 3 (ipykernel)",
   "language": "python",
   "name": "python3"
  },
  "language_info": {
   "codemirror_mode": {
    "name": "ipython",
    "version": 3
   },
   "file_extension": ".py",
   "mimetype": "text/x-python",
   "name": "python",
   "nbconvert_exporter": "python",
   "pygments_lexer": "ipython3",
   "version": "3.8.1"
  }
 },
 "nbformat": 4,
 "nbformat_minor": 5
}
